{
 "cells": [
  {
   "cell_type": "markdown",
   "metadata": {},
   "source": [
    "# Modello Terremoti"
   ]
  },
  {
   "cell_type": "markdown",
   "metadata": {},
   "source": [
    "segue le regole del modello 1-D della sandpile"
   ]
  },
  {
   "cell_type": "markdown",
   "metadata": {},
   "source": [
    "out_file = open(\"name_file.txt\",\"w\")\n",
    "\n",
    "for iterate in range(0,n_iter):\n",
    "    out_file.write(\"{1}\\r\".format(iterate,array[iterate]))\n",
    "\n",
    "out_file.close()"
   ]
  },
  {
   "cell_type": "code",
   "execution_count": 1,
   "metadata": {},
   "outputs": [],
   "source": [
    "import numpy as np\n",
    "import matplotlib.pyplot as plt"
   ]
  },
  {
   "cell_type": "code",
   "execution_count": 2,
   "metadata": {},
   "outputs": [],
   "source": [
    "N=64 # dimensione del reticolo (bidimensionale)\n",
    "f_thresh=1. #soglia della forza\n",
    "delta_f=1.e-4 #ampiezza della forza\n",
    "alpha=0.15 #parametro di conservazione\n",
    "n_iter=3000000 #numero iterazioni\n",
    "\n",
    "dx=np.array([-1,0,1,0])  #array x\n",
    "dy=np.array([0,-1,0,1])   #array y : servono per definire i vicini \n",
    "force=np.zeros([N+2,N+2])\n",
    "toppling=np.zeros(n_iter,dtype=\"int\")#rovesciamento serie temporale \n",
    "forcediss=np.zeros(n_iter)\n",
    "totalf=np.zeros(n_iter,dtype=\"int\") #forza totale serie temporale\n",
    "\n",
    "for i in range(1,N+1):\n",
    "    for j in range(1,N+1):\n",
    "        force[i,j]=f_thresh*(np.random.uniform())"
   ]
  },
  {
   "cell_type": "code",
   "execution_count": 5,
   "metadata": {},
   "outputs": [
    {
     "data": {
      "text/plain": [
       "50000.0"
      ]
     },
     "execution_count": 5,
     "metadata": {},
     "output_type": "execute_result"
    }
   ],
   "source": [
    "f_thresh/delta_f"
   ]
  },
  {
   "cell_type": "code",
   "execution_count": 3,
   "metadata": {},
   "outputs": [
    {
     "name": "stdout",
     "output_type": "stream",
     "text": [
      "0\n",
      "10000\n",
      "20000\n",
      "30000\n",
      "40000\n"
     ]
    },
    {
     "ename": "KeyboardInterrupt",
     "evalue": "",
     "output_type": "error",
     "traceback": [
      "\u001b[1;31m---------------------------------------------------------------------------\u001b[0m",
      "\u001b[1;31mKeyboardInterrupt\u001b[0m                         Traceback (most recent call last)",
      "\u001b[1;32m<ipython-input-3-cb6b2b1d94d1>\u001b[0m in \u001b[0;36m<module>\u001b[1;34m()\u001b[0m\n\u001b[0;32m      5\u001b[0m     \u001b[1;32mfor\u001b[0m \u001b[0mi\u001b[0m \u001b[1;32min\u001b[0m \u001b[0mrange\u001b[0m\u001b[1;33m(\u001b[0m\u001b[1;36m1\u001b[0m\u001b[1;33m,\u001b[0m\u001b[0mN\u001b[0m\u001b[1;33m+\u001b[0m\u001b[1;36m1\u001b[0m\u001b[1;33m)\u001b[0m\u001b[1;33m:\u001b[0m\u001b[1;33m\u001b[0m\u001b[0m\n\u001b[0;32m      6\u001b[0m         \u001b[1;32mfor\u001b[0m \u001b[0mj\u001b[0m \u001b[1;32min\u001b[0m \u001b[0mrange\u001b[0m\u001b[1;33m(\u001b[0m\u001b[1;36m1\u001b[0m\u001b[1;33m,\u001b[0m\u001b[0mN\u001b[0m\u001b[1;33m+\u001b[0m\u001b[1;36m1\u001b[0m\u001b[1;33m)\u001b[0m\u001b[1;33m:\u001b[0m\u001b[1;33m\u001b[0m\u001b[0m\n\u001b[1;32m----> 7\u001b[1;33m             \u001b[1;32mif\u001b[0m \u001b[0mforce\u001b[0m\u001b[1;33m[\u001b[0m\u001b[0mi\u001b[0m\u001b[1;33m,\u001b[0m\u001b[0mj\u001b[0m\u001b[1;33m]\u001b[0m\u001b[1;33m>=\u001b[0m\u001b[0mf_thresh\u001b[0m\u001b[1;33m:\u001b[0m \u001b[1;31m# se vero il nodo è instabile\u001b[0m\u001b[1;33m\u001b[0m\u001b[0m\n\u001b[0m\u001b[0;32m      8\u001b[0m                 \u001b[0mmove\u001b[0m\u001b[1;33m[\u001b[0m\u001b[0mi\u001b[0m\u001b[1;33m,\u001b[0m\u001b[0mj\u001b[0m\u001b[1;33m]\u001b[0m\u001b[1;33m-=\u001b[0m\u001b[0mforce\u001b[0m\u001b[1;33m[\u001b[0m\u001b[0mi\u001b[0m\u001b[1;33m,\u001b[0m\u001b[0mj\u001b[0m\u001b[1;33m]\u001b[0m \u001b[1;31m#equazione resettare\u001b[0m\u001b[1;33m\u001b[0m\u001b[0m\n\u001b[0;32m      9\u001b[0m                 \u001b[0mmove\u001b[0m\u001b[1;33m[\u001b[0m\u001b[0mi\u001b[0m\u001b[1;33m+\u001b[0m\u001b[0mdx\u001b[0m\u001b[1;33m[\u001b[0m\u001b[1;33m:\u001b[0m\u001b[1;33m]\u001b[0m\u001b[1;33m,\u001b[0m\u001b[0mj\u001b[0m\u001b[1;33m+\u001b[0m\u001b[0mdy\u001b[0m\u001b[1;33m[\u001b[0m\u001b[1;33m:\u001b[0m\u001b[1;33m]\u001b[0m\u001b[1;33m]\u001b[0m\u001b[1;33m+=\u001b[0m\u001b[0malpha\u001b[0m\u001b[1;33m*\u001b[0m\u001b[0mforce\u001b[0m\u001b[1;33m[\u001b[0m\u001b[0mi\u001b[0m\u001b[1;33m,\u001b[0m\u001b[0mj\u001b[0m\u001b[1;33m]\u001b[0m \u001b[1;31m#equazione sostituire\u001b[0m\u001b[1;33m\u001b[0m\u001b[0m\n",
      "\u001b[1;31mKeyboardInterrupt\u001b[0m: "
     ]
    }
   ],
   "source": [
    "for iterate in range(0,n_iter): #iterazioni\n",
    "    move=np.zeros([N+2,N+2])  #reset ogni volta, cornice vuota attorno al reticolo per evitare errori out of bound durante la redistibuzione\n",
    "    #scansione reticolare per indicare quali nodi devono essere ridistribuiti e azzerati\n",
    "   \n",
    "    for i in range(1,N+1):\n",
    "        for j in range(1,N+1):\n",
    "            if force[i,j]>=f_thresh: # se vero il nodo è instabile\n",
    "                move[i,j]-=force[i,j] #equazione resettare\n",
    "                move[i+dx[:],j+dy[:]]+=alpha*force[i,j] #equazione sostituire\n",
    "                toppling[iterate]+=1 #toppling cumulato \n",
    "                forcediss[iterate]+=(1-4*alpha)*force[i,j]\n",
    "                \n",
    "    if toppling[iterate]>0: #se positiva allora inizia il terremoto\n",
    "        force+=move #reticolo aggiornato\n",
    "    else: #nnt valanghe\n",
    "        force[:,:]+=delta_f #equazione \n",
    "        \n",
    "    totalf[iterate]=force.sum()\n",
    "   # print totalf[iterate]#forza totale su reticolo\n",
    "    if iterate%10000==0: #stampa\n",
    "        print iterate\n",
    "        #print(\"{0},toppl {1}.\".format(iterate,toppling[iterate]))\n"
   ]
  },
  {
   "cell_type": "code",
   "execution_count": null,
   "metadata": {},
   "outputs": [],
   "source": [
    "plt.subplot(3,1,1)\n",
    "plt.plot(range(0,n_iter),totalf)\n",
    "plt.ylabel(\"Total force\")\n",
    "plt.subplot(3,1,2)\n",
    "plt.plot(range(0,n_iter),toppling)\n",
    "plt.xlabel(\"iteration\")\n",
    "plt.ylabel(\"toppling nodes\")\n",
    "plt.subplot(3,1,3)\n",
    "plt.plot(range(0,n_iter),forcediss)\n",
    "plt.xlabel(\"iteration\")\n",
    "plt.ylabel(\"forcediss\")\n",
    "plt.show()"
   ]
  },
  {
   "cell_type": "markdown",
   "metadata": {},
   "source": [
    "l'energia misurata in questo caso è la quantità di forza dissipata nel\n",
    "corso di tutti gli eventi di ridistribuzione che si verificano durante la valanga.  una misura equivalente è semplicemente il numero totale di\n",
    "nodi che tremano (contando tutti i ribaltamenti ripetuti in quanto tali)"
   ]
  },
  {
   "cell_type": "markdown",
   "metadata": {},
   "source": [
    "# Esercizi"
   ]
  },
  {
   "cell_type": "markdown",
   "metadata": {},
   "source": [
    "- Pdf di E da fare sul codice velocizzato  fatto"
   ]
  },
  {
   "cell_type": "markdown",
   "metadata": {},
   "source": [
    "- velocizzare il codice sapendo che il valore di deltaF e il più grande valore nodale F: posso calcolare il numero di iterazioni richieste prima dell'attivazione della successiva valanga "
   ]
  },
  {
   "cell_type": "code",
   "execution_count": 5,
   "metadata": {},
   "outputs": [],
   "source": [
    "del forcediss\n",
    "del toppling\n",
    "del totalf\n",
    "del force"
   ]
  },
  {
   "cell_type": "code",
   "execution_count": 8,
   "metadata": {},
   "outputs": [],
   "source": [
    "N=64 # dimensione del reticolo (bidimensionale)\n",
    "f_thresh=1. #soglia della forza\n",
    "delta_f=1.e-4 #ampiezza della forza\n",
    "alpha=0.15 #parametro di conservazione\n",
    "n_iter=200000 #numero iterazioni\n",
    "\n",
    "dx=np.array([-1,0,1,0])  #array x\n",
    "dy=np.array([0,-1,0,1])   #array y : servono per definire i vicini \n",
    "force=np.zeros([N+2,N+2])\n",
    "toppling=np.zeros(n_iter,dtype=\"int\")#rovesciamento serie temporale \n",
    "forcediss=np.zeros(n_iter)\n",
    "totalf=np.zeros(n_iter,dtype=\"int\")#forza totale serie temporale\n",
    "\n",
    "forcenode1=np.zeros(n_iter)\n",
    "forcenode2=np.zeros(n_iter)\n",
    "forcenode3=np.zeros(n_iter)\n",
    "for i in range(1,N+1):\n",
    "    for j in range(1,N+1):\n",
    "        force[i,j]=f_thresh*(np.random.uniform())"
   ]
  },
  {
   "cell_type": "code",
   "execution_count": 54,
   "metadata": {},
   "outputs": [
    {
     "data": {
      "image/png": "[encoded data removed]",
      "text/plain": [
       "<Figure size 432x288 with 2 Axes>"
      ]
     },
     "metadata": {},
     "output_type": "display_data"
    }
   ],
   "source": [
    "fig = plt.figure()\n",
    "ax = fig.add_subplot(1,1,1)\n",
    "ax.set_aspect('equal')\n",
    "plt.title(\"$t=0$\")\n",
    "plt.imshow(force[1:-1,1:-1], interpolation='nearest', cmap=plt.cm.rainbow)\n",
    "plt.colorbar()\n",
    "plt.savefig(\"reticoloFC1_02_1M.png\", dpi=72 )\n",
    "plt.show()\n",
    "        "
   ]
  },
  {
   "cell_type": "code",
   "execution_count": null,
   "metadata": {},
   "outputs": [
    {
     "name": "stdout",
     "output_type": "stream",
     "text": [
      "0,toppl 0.\n",
      "20000,toppl 1.\n",
      "40000,toppl 1.\n",
      "60000,toppl 0.\n",
      "70000,toppl 1.\n",
      "90000,toppl 2.\n",
      "100000,toppl 2.\n",
      "110000,toppl 1.\n",
      "120000,toppl 1.\n"
     ]
    }
   ],
   "source": [
    "#velocizzato\n",
    "iterate=0\n",
    "#forcenode1[iterate]=force[10,50]\n",
    "#forcenode2[iterate]=force[11,50]\n",
    "forcenode3[iterate]=force[10,51]\n",
    "\n",
    "while(iterate < n_iter): #iterazioni\n",
    "           \n",
    "    move=np.zeros([N+2,N+2])  #reset ogni volta, cornice vuota attorno al reticolo per evitare errori out of bound durante la redistibuzione\n",
    "    #scansione reticolare per indicare quali nodi devono essere ridistribuiti e azzerati\n",
    "    for i in range(1,N+1):\n",
    "        for j in range(1,N+1):\n",
    "            if force[i,j]>=f_thresh: # se vero il nodo è instabile\n",
    "                #alpha=np.random.uniform(0.10,0.20)\n",
    "                move[i,j]-=force[i,j] #equazione resettare\n",
    "                move[i+dx[:],j+dy[:]]+=alpha*force[i,j] #equazione sostituire\n",
    "                toppling[iterate]+=1 #toppling cumulato (energia accumulata)\n",
    "                forcediss[iterate]+=(1-4*alpha)*force[i,j]\n",
    "    \n",
    "    if iterate%10000==0:\n",
    "        print(\"{0},toppl {1}.\".format(iterate,toppling[iterate]))\n",
    "        #fig = plt.figure()\n",
    "        #ax = fig.add_subplot(1,1,1)\n",
    "        #ax.set_aspect('equal')\n",
    "        #plt.imshow(force[1:-1,1:-1], interpolation='nearest', cmap=plt.cm.rainbow)\n",
    "        #plt.colorbar()\n",
    "        #plt.show()\n",
    "        \n",
    "    if toppling[iterate]>0: #se positiva allora inizia il terremoto\n",
    "        force+=move #reticolo aggiornato\n",
    "        iterate=iterate+1\n",
    "        totalf[iterate]=force[1:-1,1:-1].sum()\n",
    "        #forcenode1[iterate]=force[10,50]\n",
    "        #forcenode2[iterate]=force[11,50]\n",
    "        forcenode3[iterate]=force[10,51]\n",
    "    else:\n",
    "        passi=int((f_thresh-np.amax(force[1:-1,1:-1]))/delta_f)+1\n",
    "        for k in range(0,passi):\n",
    "            force[:,:]+=delta_f\n",
    "            \n",
    "            if iterate+k+1>=n_iter:\n",
    "                break\n",
    "            else:\n",
    "                #forcenode1[iterate+k+1]=force[10,50]\n",
    "                #forcenode2[iterate+k+1]=force[11,50]\n",
    "                forcenode3[iterate+k+1]=force[10,51]\n",
    "                totalf[iterate+k+1]=force[1:-1,1:-1].sum()\n",
    "          \n",
    "        #print(\"{0},toppl {1},totalf {2}.\".format(iterate,toppling[iterate],totalf[iterate]))\n",
    "        iterate=iterate+passi\n",
    "      \n",
    "    #forza totale su reticolo    \n",
    "    \n",
    "    #print(\"{0},toppl {1}.\".format(iterate,toppling[iterate]))"
   ]
  },
  {
   "cell_type": "code",
   "execution_count": 59,
   "metadata": {},
   "outputs": [],
   "source": [
    "out_file = open(\"vicini1.txt\",\"w\")\n",
    "\n",
    "for iterate in range(0,n_iter):\n",
    "    out_file.write(\"{1}\\r\".format(iterate,forcenode1[iterate]))\n",
    "\n",
    "out_file.close()\n",
    "\n",
    "out_file = open(\"vicini2.txt\",\"w\")\n",
    "\n",
    "for iterate in range(0,n_iter):\n",
    "    out_file.write(\"{1}\\r\".format(iterate,forcenode2[iterate]))\n",
    "\n",
    "out_file.close()\n",
    "\n",
    "out_file = open(\"vicini3.txt\",\"w\")\n",
    "\n",
    "for iterate in range(0,n_iter):\n",
    "    out_file.write(\"{1}\\r\".format(iterate,forcenode3[iterate]))\n",
    "\n",
    "out_file.close()\n"
   ]
  },
  {
   "cell_type": "code",
   "execution_count": 7,
   "metadata": {},
   "outputs": [
    {
     "data": {
      "image/png": "[encoded data removed]",
      "text/plain": [
       "<Figure size 432x288 with 3 Axes>"
      ]
     },
     "metadata": {},
     "output_type": "display_data"
    }
   ],
   "source": [
    "plt.subplot(3,1,1)\n",
    "plt.plot(totalf)\n",
    "plt.ylabel(\"Total force\")\n",
    "plt.subplot(3,1,2)\n",
    "plt.plot(toppling)\n",
    "plt.xlabel(\"iteration\")\n",
    "plt.ylabel(\"toppling nodes\")\n",
    "plt.subplot(3,1,3)\n",
    "plt.plot(forcenode3)\n",
    "plt.xlabel(\"iteration\")\n",
    "plt.ylabel(\"forcediss\")\n",
    "plt.show()"
   ]
  },
  {
   "cell_type": "code",
   "execution_count": 15,
   "metadata": {},
   "outputs": [],
   "source": [
    "out_file = open(\"reticolo16_forza5M.txt\",\"w\")\n",
    "\n",
    "for i in range(1,N):\n",
    "    for j in range(1,N):\n",
    "        out_file.write(\"{1} \".format(j,force[i][j]))\n",
    "    out_file.write(\"\\r\")\n",
    "    \n",
    "\n",
    "out_file.close()"
   ]
  },
  {
   "cell_type": "code",
   "execution_count": 5,
   "metadata": {},
   "outputs": [
    {
     "data": {
      "text/plain": [
       "10962"
      ]
     },
     "execution_count": 5,
     "metadata": {},
     "output_type": "execute_result"
    }
   ],
   "source": [
    "np.amax(totalf)"
   ]
  },
  {
   "cell_type": "code",
   "execution_count": 85,
   "metadata": {},
   "outputs": [],
   "source": [
    "out_file = open(\"totalf64025.txt\",\"w\")\n",
    "\n",
    "for iterate in range(0,n_iter):\n",
    "    out_file.write(\"{1}\\r\".format(iterate,totalf[iterate]))\n",
    "\n",
    "out_file.close()"
   ]
  },
  {
   "cell_type": "code",
   "execution_count": 6,
   "metadata": {},
   "outputs": [
    {
     "data": {
      "text/plain": [
       "(array([19187, 19188]),)"
      ]
     },
     "execution_count": 6,
     "metadata": {},
     "output_type": "execute_result"
    }
   ],
   "source": [
    "np.where(totalf==np.amax(totalf))"
   ]
  },
  {
   "cell_type": "markdown",
   "metadata": {},
   "source": [
    "out_file = open(\"node12mil_015.txt\",\"w\")\n",
    "\n",
    "for iterate in range(0,n_iter):\n",
    "    out_file.write(\"{1}\\r\".format(iterate,forcenode1[iterate]))\n",
    "\n",
    "out_file.close()\n",
    "\n",
    "out_file = open(\"node22mil_015.txt\",\"w\")\n",
    "\n",
    "for iterate in range(0,n_iter):\n",
    "    out_file.write(\"{1}\\r\".format(iterate,forcenode2[iterate]))\n",
    "\n",
    "out_file.close()\n",
    "\n",
    "out_file = open(\"node32mil_015.txt\",\"w\")\n",
    "\n",
    "for iterate in range(0,n_iter):\n",
    "    out_file.write(\"{1}\\r\".format(iterate,forcenode3[iterate]))\n",
    "\n",
    "out_file.close()\n"
   ]
  },
  {
   "cell_type": "markdown",
   "metadata": {},
   "source": [
    "4) se alpha non è costante ? non è neanche periodica la situazione?"
   ]
  },
  {
   "cell_type": "markdown",
   "metadata": {},
   "source": [
    "5) costruisci la correlazione tra E (la dimensione dei terremoti) e T (la durata) e fallo per 3 alfa differenti"
   ]
  },
  {
   "cell_type": "code",
   "execution_count": 19,
   "metadata": {},
   "outputs": [],
   "source": [
    "def dettagli_terremoto(n_iter,toppling): #funzione che restituisce l'energia , il picco \n",
    "   \n",
    "    n_max_av=1000000 #massimo numero di valanghe\n",
    "    t_av=np.zeros(n_max_av) #durata della valanga, il numero di iterazioni trascorse da inizio di uuna valanga all'ultima ridistribuzione\n",
    "    istart,n_av,nodi=0,-1,0\n",
    "    noditot=np.zeros(n_max_av)\n",
    "    \n",
    "    for iterate in range(1,n_iter): #devo trovare quando inizia la valanga e inizia quando la sabbia spostata è maggiore di zero\n",
    "        if toppling[iterate]>0 and toppling[iterate-1]==0: #ovviamento al passaggio precedente non ci deve essere spostamento\n",
    "            nodi=0#finisce la valanga a iterate-1 se tsav(iterate-1)>0 e tsav(iterate)=0\n",
    "            istart=iterate\n",
    "            if n_av==n_max_av-1: #test di salvezza\n",
    "                print(\"troppe valanghe\")\n",
    "                break\n",
    "            n_av+=1\n",
    "        nodi+=toppling[iterate]\n",
    "        if toppling[iterate]<=0 and toppling[iterate-1]>0:\n",
    "            t_av[n_av]=iterate-istart\n",
    "            noditot[n_av]=nodi\n",
    "                \n",
    "    return n_av,t_av,noditot"
   ]
  },
  {
   "cell_type": "code",
   "execution_count": 16,
   "metadata": {},
   "outputs": [],
   "source": [
    "n_av,t_av,noditot=dettagli_terremoto(n_iter,toppling)"
   ]
  },
  {
   "cell_type": "code",
   "execution_count": 17,
   "metadata": {},
   "outputs": [
    {
     "data": {
      "text/plain": [
       "2765"
      ]
     },
     "execution_count": 17,
     "metadata": {},
     "output_type": "execute_result"
    }
   ],
   "source": [
    "n_av"
   ]
  },
  {
   "cell_type": "code",
   "execution_count": 50,
   "metadata": {},
   "outputs": [],
   "source": [
    "out_file = open(\"E015_2m.txt\",\"w\")\n",
    "\n",
    "for iterate in range(0,n_av):\n",
    "    out_file.write(\"{1}\\r\".format(iterate,noditot[iterate]))\n",
    "\n",
    "out_file.close()"
   ]
  },
  {
   "cell_type": "markdown",
   "metadata": {},
   "source": [
    "# ArrayPlot"
   ]
  },
  {
   "cell_type": "code",
   "execution_count": 46,
   "metadata": {},
   "outputs": [],
   "source": [
    "del toppling\n",
    "del force"
   ]
  },
  {
   "cell_type": "code",
   "execution_count": 14,
   "metadata": {},
   "outputs": [],
   "source": [
    "N=64 # dimensione del reticolo (bidimensionale)\n",
    "f_thresh=5. #soglia della forza\n",
    "delta_f=1.e-4 #ampiezza della forza\n",
    "alpha=0.25 #parametro di conservazione\n",
    "n_iter=200000 #numero iterazioni\n",
    "\n",
    "dx=np.array([-1,0,1,0])  #array x\n",
    "dy=np.array([0,-1,0,1])   #array y : servono per definire i vicini \n",
    "force=np.zeros([N+2,N+2])\n",
    "toppling=np.zeros(n_iter,dtype=\"int\")#rovesciamento serie temporale \n",
    "#forcediss=np.zeros(n_iter)\n",
    "#totalf=np.zeros(n_iter,dtype=\"int\")#forza totale serie temporale\n",
    "\n",
    "#forcenode1=np.zeros(n_iter)\n",
    "#forcenode2=np.zeros(n_iter)\n",
    "#forcenode3=np.zeros(n_iter)\n",
    "for i in range(1,N+1):\n",
    "    for j in range(1,N+1):\n",
    "        force[i,j]=f_thresh*(np.random.uniform())\n"
   ]
  },
  {
   "cell_type": "code",
   "execution_count": 15,
   "metadata": {},
   "outputs": [
    {
     "name": "stdout",
     "output_type": "stream",
     "text": [
      "0,toppl 0.\n",
      "10000,toppl 11.\n",
      "20000,toppl 2.\n",
      "30000,toppl 2.\n",
      "40000,toppl 9.\n",
      "80000,toppl 1.\n",
      "90000,toppl 9.\n",
      "100000,toppl 4.\n",
      "110000,toppl 36.\n",
      "120000,toppl 12.\n",
      "130000,toppl 15.\n",
      "150000,toppl 14.\n",
      "160000,toppl 1.\n",
      "170000,toppl 25.\n",
      "180000,toppl 17.\n",
      "190000,toppl 2.\n"
     ]
    }
   ],
   "source": [
    "#velocizzato\n",
    "iterate=0\n",
    "\n",
    "\n",
    "while(iterate < n_iter): #iterazioni\n",
    "           \n",
    "    move=np.zeros([N+2,N+2])  #reset ogni volta, cornice vuota attorno al reticolo per evitare errori out of bound durante la redistibuzione\n",
    "    \n",
    "    for i in range(1,N+1):\n",
    "        for j in range(1,N+1):\n",
    "            if force[i,j]>=f_thresh: # se vero il nodo è instabile\n",
    "               \n",
    "                move[i,j]-=force[i,j] #equazione resettare\n",
    "                move[i+dx[:],j+dy[:]]+=alpha*force[i,j] #equazione sostituire\n",
    "                toppling[iterate]+=1 #toppling cumulato (energia accumulata)\n",
    "               \n",
    "    if iterate%10000==0:\n",
    "        print(\"{0},toppl {1}.\".format(iterate,toppling[iterate]))\n",
    "    \n",
    "    if toppling[iterate]>0: #se positiva allora inizia il terremoto\n",
    "        force+=move #reticolo aggiornato\n",
    "        iterate=iterate+1\n",
    "    else:\n",
    "        passi=int((f_thresh-np.amax(force[1:-1,1:-1]))/delta_f)+1\n",
    "        force[:,:]+=passi*delta_f\n",
    "        iterate=iterate+passi"
   ]
  },
  {
   "cell_type": "code",
   "execution_count": 16,
   "metadata": {},
   "outputs": [
    {
     "data": {
      "text/plain": [
       "4674"
      ]
     },
     "execution_count": 16,
     "metadata": {},
     "output_type": "execute_result"
    }
   ],
   "source": [
    "n_av,t_av,noditot=dettagli_terremoto(n_iter,toppling)\n",
    "\n",
    "n_av"
   ]
  },
  {
   "cell_type": "code",
   "execution_count": 17,
   "metadata": {},
   "outputs": [],
   "source": [
    "out_file = open(\"E025_2m.txt\",\"w\")\n",
    "\n",
    "for iterate in range(0,n_av):\n",
    "    out_file.write(\"{1}\\r\".format(iterate,noditot[iterate]))\n",
    "\n",
    "out_file.close()"
   ]
  },
  {
   "cell_type": "code",
   "execution_count": 18,
   "metadata": {},
   "outputs": [],
   "source": [
    "out_file = open(\"T025_2m.txt\",\"w\")\n",
    "\n",
    "for iterate in range(0,n_av):\n",
    "    out_file.write(\"{1}\\r\".format(iterate,t_av[iterate]))\n",
    "\n",
    "out_file.close()"
   ]
  },
  {
   "cell_type": "code",
   "execution_count": null,
   "metadata": {},
   "outputs": [],
   "source": []
  }
 ],
 "metadata": {
  "kernelspec": {
   "display_name": "Python 2",
   "language": "python",
   "name": "python2"
  },
  "language_info": {
   "codemirror_mode": {
    "name": "ipython",
    "version": 2
   },
   "file_extension": ".py",
   "mimetype": "text/x-python",
   "name": "python",
   "nbconvert_exporter": "python",
   "pygments_lexer": "ipython2",
   "version": "2.7.11"
  }
 },
 "nbformat": 4,
 "nbformat_minor": 2
}
